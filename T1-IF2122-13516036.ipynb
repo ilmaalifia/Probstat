{
 "cells": [
  {
   "cell_type": "markdown",
   "metadata": {},
   "source": [
    "###### Ilma Alifia Mahardika (13516036)"
   ]
  },
  {
   "cell_type": "markdown",
   "metadata": {},
   "source": [
    "# SOAL 1\n",
    "Data: tinggimhs.csv\n",
    "\n",
    "Institut Pertanian Indonesia (IPI) memiliki 1000 mahasiswa jurusan sastra teknik informatika. Suatu hari rektor IPI mendengar berita bahwa semakin tinggi seseorang, semakin besar kemungkinan orang tersebut akan sukses di kemudian hari. Oleh karena itu, IPI ingin menganalisis distribusi tinggi mahasiswa-mahasiswanya untuk memenuhi rasa penasaran apakah berita itu benar atau tidak. Sebagai seorang (calon) ahli statistika, Anda diminta oleh rektor IPI untuk:"
   ]
  },
  {
   "cell_type": "markdown",
   "metadata": {},
   "source": [
    "1.\n",
    "Menulis deskripsi statisktika (Descriptive Statistics) dari data tinggi mahasiswa, minimal terdiri dari mean, median, modus, standar deviasi, variansi, range, nilai minimum dan maksimum."
   ]
  },
  {
   "cell_type": "code",
   "execution_count": 270,
   "metadata": {},
   "outputs": [
    {
     "data": {
      "text/html": [
       "'Mean = 176.307620'"
      ],
      "text/latex": [
       "'Mean = 176.307620'"
      ],
      "text/markdown": [
       "'Mean = 176.307620'"
      ],
      "text/plain": [
       "[1] \"Mean = 176.307620\""
      ]
     },
     "metadata": {},
     "output_type": "display_data"
    },
    {
     "data": {
      "text/html": [
       "'Median = 176.310000'"
      ],
      "text/latex": [
       "'Median = 176.310000'"
      ],
      "text/markdown": [
       "'Median = 176.310000'"
      ],
      "text/plain": [
       "[1] \"Median = 176.310000\""
      ]
     },
     "metadata": {},
     "output_type": "display_data"
    },
    {
     "data": {
      "text/html": [
       "'Mode = 176.310000'"
      ],
      "text/latex": [
       "'Mode = 176.310000'"
      ],
      "text/markdown": [
       "'Mode = 176.310000'"
      ],
      "text/plain": [
       "[1] \"Mode = 176.310000\""
      ]
     },
     "metadata": {},
     "output_type": "display_data"
    },
    {
     "data": {
      "text/html": [
       "'Standard Deviation = 15.082227'"
      ],
      "text/latex": [
       "'Standard Deviation = 15.082227'"
      ],
      "text/markdown": [
       "'Standard Deviation = 15.082227'"
      ],
      "text/plain": [
       "[1] \"Standard Deviation = 15.082227\""
      ]
     },
     "metadata": {},
     "output_type": "display_data"
    },
    {
     "data": {
      "text/html": [
       "'Variance = 227.473582'"
      ],
      "text/latex": [
       "'Variance = 227.473582'"
      ],
      "text/markdown": [
       "'Variance = 227.473582'"
      ],
      "text/plain": [
       "[1] \"Variance = 227.473582\""
      ]
     },
     "metadata": {},
     "output_type": "display_data"
    },
    {
     "data": {
      "text/html": [
       "'Range = 91.250000'"
      ],
      "text/latex": [
       "'Range = 91.250000'"
      ],
      "text/markdown": [
       "'Range = 91.250000'"
      ],
      "text/plain": [
       "[1] \"Range = 91.250000\""
      ]
     },
     "metadata": {},
     "output_type": "display_data"
    },
    {
     "data": {
      "text/html": [
       "'Min = 130.290000'"
      ],
      "text/latex": [
       "'Min = 130.290000'"
      ],
      "text/markdown": [
       "'Min = 130.290000'"
      ],
      "text/plain": [
       "[1] \"Min = 130.290000\""
      ]
     },
     "metadata": {},
     "output_type": "display_data"
    },
    {
     "data": {
      "text/html": [
       "'Max = 221.540000'"
      ],
      "text/latex": [
       "'Max = 221.540000'"
      ],
      "text/markdown": [
       "'Max = 221.540000'"
      ],
      "text/plain": [
       "[1] \"Max = 221.540000\""
      ]
     },
     "metadata": {},
     "output_type": "display_data"
    },
    {
     "data": {},
     "metadata": {},
     "output_type": "display_data"
    },
    {
     "data": {
      "image/png": "[encoded data removed]",
      "text/plain": [
       "plot without title"
      ]
     },
     "metadata": {},
     "output_type": "display_data"
    }
   ],
   "source": [
    "Data1 <- read.csv(file=\"tinggimhs.csv\", header=FALSE, sep=\",\")\n",
    "\n",
    "getmode <- function(v) {\n",
    "   uniqv <- unique(v)\n",
    "   uniqv[which.max(tabulate(match(v, uniqv)))]\n",
    "}\n",
    "\n",
    "#Deskripsi Statistika\n",
    "sprintf(\"Mean = %f\", mean(Data1$V1))\n",
    "sprintf(\"Median = %f\", median(Data1$V1))\n",
    "sprintf(\"Mode = %f\", getmode(Data1$V1))\n",
    "sprintf(\"Standard Deviation = %f\", sd(Data1$V1))\n",
    "sprintf(\"Variance = %f\", var(Data1$V1))\n",
    "sprintf(\"Range = %f\", max(Data1$V1)-min(Data1$V1))\n",
    "sprintf(\"Min = %f\", min(Data1$V1))\n",
    "sprintf(\"Max = %f\", max(Data1$V1))\n",
    "\n",
    "ggplot(data=Data1, aes(Data1$V1)) +\n",
    "    geom_histogram(bins=30, fill=\"blue\", col=\"gray\", alpha=.5) + \n",
    "    labs(title=\"Histogram for Data 1\", x=\"height\", y=\"count\")"
   ]
  },
  {
   "cell_type": "markdown",
   "metadata": {},
   "source": [
    "2.\n",
    "Menentukan distribusi yang paling sesuai dari data tinggi mahasiswa. Jelaskan alasan mengapa distribusi tersebut dipilih."
   ]
  },
  {
   "cell_type": "markdown",
   "metadata": {},
   "source": [
    "Distribusi yang dipilih adalah Distribusi Normal\n",
    "\n",
    "Alasan:\n",
    "    1. Modus = Mean\n",
    "    2. Histogram berbentuk lonceng dan simetris\n",
    "    3. Jumlah data 1000 (memenuhi syarat n >= 30 agar data diskrit yang didekati dengan distribusi normal valid)"
   ]
  },
  {
   "cell_type": "markdown",
   "metadata": {},
   "source": [
    "3.\n",
    "Membuat plot distribusi yang dipilih beserta plot distribusi kumulatifnya."
   ]
  },
  {
   "cell_type": "code",
   "execution_count": 271,
   "metadata": {},
   "outputs": [
    {
     "data": {},
     "metadata": {},
     "output_type": "display_data"
    },
    {
     "data": {},
     "metadata": {},
     "output_type": "display_data"
    },
    {
     "data": {
      "image/png": "[encoded data removed]",
      "text/plain": [
       "plot without title"
      ]
     },
     "metadata": {},
     "output_type": "display_data"
    },
    {
     "data": {
      "image/png": "[encoded data removed]",
      "text/plain": [
       "plot without title"
      ]
     },
     "metadata": {},
     "output_type": "display_data"
    }
   ],
   "source": [
    "#Plot Distribusi Normal dan Distribusi Kumulatif\n",
    "\n",
    "library(cowplot)\n",
    "\n",
    "ggplot(Data1, aes(x=Data1$V1)) +\n",
    "  stat_function(fun = dnorm, n = 101, args = list(mean = mean(x1), sd = sd(x1)), geom=\"area\", fill=\"#B0E0E6\", alpha=.4) + ylab(\"\") +\n",
    "    labs(title=\"Normal Distribution for Data 1\", x=\"height\") + theme_bw()\n",
    "\n",
    "ggplot(Data1, aes(x=Data1$V1)) +\n",
    "  stat_function(fun = pnorm, n = 101, args = list(mean = mean(x1), sd = sd(x1)), geom=\"area\", fill=\"#B0E0E6\", alpha=.4) + ylab(\"\") +\n",
    "    labs(title=\"Cummulative Distribution for Data 1\", x=\"height\") + theme_bw()\n"
   ]
  },
  {
   "cell_type": "markdown",
   "metadata": {},
   "source": [
    "4.\n",
    "Apabila suatu hari IPI menerima 100 mahasiswa, tentukan ekspektasi jumlah mahasiswa yang diterima dengan tinggi:\n",
    "\n",
    "a. dibawah 150.00cm.\n",
    "\n",
    "b. diatas 200.00cm."
   ]
  },
  {
   "cell_type": "code",
   "execution_count": 272,
   "metadata": {},
   "outputs": [
    {
     "data": {
      "text/html": [
       "'a. 3.774867 ~ 4 mahasiswa'"
      ],
      "text/latex": [
       "'a. 3.774867 \\textasciitilde{} 4 mahasiswa'"
      ],
      "text/markdown": [
       "'a. 3.774867 ~ 4 mahasiswa'"
      ],
      "text/plain": [
       "[1] \"a. 3.774867 ~ 4 mahasiswa\""
      ]
     },
     "metadata": {},
     "output_type": "display_data"
    },
    {
     "data": {
      "text/html": [
       "'b. 5.435347 ~ 5 mahasiswa'"
      ],
      "text/latex": [
       "'b. 5.435347 \\textasciitilde{} 5 mahasiswa'"
      ],
      "text/markdown": [
       "'b. 5.435347 ~ 5 mahasiswa'"
      ],
      "text/plain": [
       "[1] \"b. 5.435347 ~ 5 mahasiswa\""
      ]
     },
     "metadata": {},
     "output_type": "display_data"
    }
   ],
   "source": [
    "sprintf(\"a. %f ~ %i mahasiswa\", pnorm(149.5,mean(x1),sd(x1))*100, round(pnorm(149.5,mean(x1),sd(x1))*100, digits = 0))\n",
    "sprintf(\"b. %f ~ %i mahasiswa\", pnorm(200.5,mean(x1),sd(x1),lower.tail=FALSE)*100, round(pnorm(200.5,mean(x1),sd(x1),lower.tail=FALSE)*100, digits = 0))"
   ]
  },
  {
   "cell_type": "markdown",
   "metadata": {},
   "source": [
    "5.\n",
    "Apabila suatu hari IPI menerima 50 mahasiswa, tentukan ekspektasi jumlah mahasiswa yang diterima dengan tinggi:\n",
    "\n",
    "a. diantara 160.00cm dan 190.00cm inklusif.\n",
    "\n",
    "b. sama dengan 170.00cm."
   ]
  },
  {
   "cell_type": "code",
   "execution_count": 273,
   "metadata": {},
   "outputs": [
    {
     "data": {
      "text/html": [
       "'a. 34.704681 ~ 35 mahasiswa'"
      ],
      "text/latex": [
       "'a. 34.704681 \\textasciitilde{} 35 mahasiswa'"
      ],
      "text/markdown": [
       "'a. 34.704681 ~ 35 mahasiswa'"
      ],
      "text/plain": [
       "[1] \"a. 34.704681 ~ 35 mahasiswa\""
      ]
     },
     "metadata": {},
     "output_type": "display_data"
    },
    {
     "data": {
      "text/html": [
       "'b. 1.211627 ~ 1 mahasiswa'"
      ],
      "text/latex": [
       "'b. 1.211627 \\textasciitilde{} 1 mahasiswa'"
      ],
      "text/markdown": [
       "'b. 1.211627 ~ 1 mahasiswa'"
      ],
      "text/plain": [
       "[1] \"b. 1.211627 ~ 1 mahasiswa\""
      ]
     },
     "metadata": {},
     "output_type": "display_data"
    }
   ],
   "source": [
    "sprintf(\"a. %f ~ %i mahasiswa\", (pnorm(190.5,mean(x1),sd(x1))-pnorm(159.5,mean(x1),sd(x1)))*50, round((pnorm(190.5,mean(x1),sd(x1))-pnorm(159.5,mean(x1),sd(x1)))*50, digits = 0))\n",
    "sprintf(\"b. %f ~ %i mahasiswa\", (pnorm(170.5,mean(x1),sd(x1))-pnorm(169.5,mean(x1),sd(x1)))*50, round((pnorm(170.5,mean(x1),sd(x1))-pnorm(169.5,mean(x1),sd(x1)))*50, digits = 0))"
   ]
  },
  {
   "cell_type": "markdown",
   "metadata": {},
   "source": [
    "# SOAL 2"
   ]
  },
  {
   "cell_type": "markdown",
   "metadata": {},
   "source": [
    "Data: commentlength.csv\n",
    "\n",
    "Suatu hari rektor IPI menetapkan peraturan baru yaitu setiap mahasiswa tidak diperbolehkan berada di area kampus diatas pukul 19.00 WITA. Hal ini mendapatkan perhatian negatif dari mahasiswanya karena banyak mahasiswa yang sering beraktivitas di kampus pada malam hari. Oleh karena itu, rektor IPI membuka forum online dimana seluruh mahasiswa dapat memberi komentar (kritik/saran) mengenai peraturan tersebut. Komentar yang diberika mahasiswa beragam; ada yang panjang dan sangat informatif, ada juga yang pendek dan hanya menyalahkan peraturan tanpa memberi penjelasan atau solusi. Rektor IPI hanya tertarik dengan komentar yang panjang dan informatif sehingga ia meminta Anda, seorang (calon) ahli statistika, untuk membantunya menganalisis komentar-komentar mahasiswanya. Ia sudah memproses data komentar mahasiswa untuk memperoleh data panjang komentar mahasiswa dalam satuan kata (commentlength.csv) sehingga Anda bisa langsung melakukan analisis. Berikut adalah hal yang dia minta Anda lakukan:"
   ]
  },
  {
   "cell_type": "markdown",
   "metadata": {},
   "source": [
    "1.\n",
    "Menulis deskripsi statisktika (Descriptive Statistics) dari data komentar, minimal terdiri dari mean, median, modus, standar deviasi, variansi, range, nilai minimum dan maksimum."
   ]
  },
  {
   "cell_type": "code",
   "execution_count": 274,
   "metadata": {},
   "outputs": [
    {
     "data": {
      "text/html": [
       "'Mean = 9.585000'"
      ],
      "text/latex": [
       "'Mean = 9.585000'"
      ],
      "text/markdown": [
       "'Mean = 9.585000'"
      ],
      "text/plain": [
       "[1] \"Mean = 9.585000\""
      ]
     },
     "metadata": {},
     "output_type": "display_data"
    },
    {
     "data": {
      "text/html": [
       "'Median = 5.000000'"
      ],
      "text/latex": [
       "'Median = 5.000000'"
      ],
      "text/markdown": [
       "'Median = 5.000000'"
      ],
      "text/plain": [
       "[1] \"Median = 5.000000\""
      ]
     },
     "metadata": {},
     "output_type": "display_data"
    },
    {
     "data": {
      "text/html": [
       "'Mode = 2.000000'"
      ],
      "text/latex": [
       "'Mode = 2.000000'"
      ],
      "text/markdown": [
       "'Mode = 2.000000'"
      ],
      "text/plain": [
       "[1] \"Mode = 2.000000\""
      ]
     },
     "metadata": {},
     "output_type": "display_data"
    },
    {
     "data": {
      "text/html": [
       "'Standard Deviation = 15.589028'"
      ],
      "text/latex": [
       "'Standard Deviation = 15.589028'"
      ],
      "text/markdown": [
       "'Standard Deviation = 15.589028'"
      ],
      "text/plain": [
       "[1] \"Standard Deviation = 15.589028\""
      ]
     },
     "metadata": {},
     "output_type": "display_data"
    },
    {
     "data": {
      "text/html": [
       "'Variance = 243.017793'"
      ],
      "text/latex": [
       "'Variance = 243.017793'"
      ],
      "text/markdown": [
       "'Variance = 243.017793'"
      ],
      "text/plain": [
       "[1] \"Variance = 243.017793\""
      ]
     },
     "metadata": {},
     "output_type": "display_data"
    },
    {
     "data": {
      "text/html": [
       "'Range = 207.000000'"
      ],
      "text/latex": [
       "'Range = 207.000000'"
      ],
      "text/markdown": [
       "'Range = 207.000000'"
      ],
      "text/plain": [
       "[1] \"Range = 207.000000\""
      ]
     },
     "metadata": {},
     "output_type": "display_data"
    },
    {
     "data": {
      "text/html": [
       "'Min = 1.000000'"
      ],
      "text/latex": [
       "'Min = 1.000000'"
      ],
      "text/markdown": [
       "'Min = 1.000000'"
      ],
      "text/plain": [
       "[1] \"Min = 1.000000\""
      ]
     },
     "metadata": {},
     "output_type": "display_data"
    },
    {
     "data": {
      "text/html": [
       "'Max = 208.000000'"
      ],
      "text/latex": [
       "'Max = 208.000000'"
      ],
      "text/markdown": [
       "'Max = 208.000000'"
      ],
      "text/plain": [
       "[1] \"Max = 208.000000\""
      ]
     },
     "metadata": {},
     "output_type": "display_data"
    },
    {
     "data": {},
     "metadata": {},
     "output_type": "display_data"
    },
    {
     "data": {
      "image/png": "[encoded data removed]",
      "text/plain": [
       "plot without title"
      ]
     },
     "metadata": {},
     "output_type": "display_data"
    }
   ],
   "source": [
    "Data2 <- read.csv(file=\"commentlength.csv\", header=FALSE, sep=\",\")\n",
    "\n",
    "getmode <- function(v) {\n",
    "   uniqv <- unique(v)\n",
    "   uniqv[which.max(tabulate(match(v, uniqv)))]\n",
    "}\n",
    "\n",
    "#Deskripsi Statistika\n",
    "sprintf(\"Mean = %f\", mean(Data2$V1))\n",
    "sprintf(\"Median = %f\", median(Data2$V1))\n",
    "sprintf(\"Mode = %f\", getmode(Data2$V1))\n",
    "sprintf(\"Standard Deviation = %f\", sd(Data2$V1))\n",
    "sprintf(\"Variance = %f\", var(Data2$V1))\n",
    "sprintf(\"Range = %f\", max(Data2$V1)-min(Data2$V1))\n",
    "sprintf(\"Min = %f\", min(Data2$V1))\n",
    "sprintf(\"Max = %f\", max(Data2$V1))\n",
    "\n",
    "ggplot(data=Data2, aes(Data2$V1)) +\n",
    "    geom_histogram(bins=30, fill=\"blue\", col=\"gray\", alpha=.6) + \n",
    "    labs(title=\"Histogram for Data 2\", x=\"comment_length\", y=\"count\")"
   ]
  },
  {
   "cell_type": "markdown",
   "metadata": {},
   "source": [
    "2.\n",
    "Menentukan distribusi yang paling sesuai dari data komentar. Jelaskan alasan mengapa distribusi tersebut dipilih."
   ]
  },
  {
   "cell_type": "markdown",
   "metadata": {},
   "source": [
    "Distribusi yang dipilih adalah Distribusi Eksponensial\n",
    "\n",
    "Alasan:\n",
    "    1. Bentuk histogram menyerupai kurva distribusi eksponensial"
   ]
  },
  {
   "cell_type": "markdown",
   "metadata": {},
   "source": [
    "3.\n",
    "Membuat plot distribusi yang Anda pilih beserta plot distribusi kumulatifnya."
   ]
  },
  {
   "cell_type": "code",
   "execution_count": 275,
   "metadata": {},
   "outputs": [
    {
     "data": {},
     "metadata": {},
     "output_type": "display_data"
    },
    {
     "data": {},
     "metadata": {},
     "output_type": "display_data"
    },
    {
     "data": {
      "image/png": "[encoded data removed]",
      "text/plain": [
       "plot without title"
      ]
     },
     "metadata": {},
     "output_type": "display_data"
    },
    {
     "data": {
      "image/png": "[encoded data removed]",
      "text/plain": [
       "plot without title"
      ]
     },
     "metadata": {},
     "output_type": "display_data"
    }
   ],
   "source": [
    "library(cowplot)\n",
    "\n",
    "ggplot(Data2, aes(x=Data2$V1)) +\n",
    "  stat_function(fun = dexp, n = 101, args = list(rate = 1/mean(x2)), geom=\"area\", fill=\"#B0E0E6\", alpha=.4) + ylab(\"\") +\n",
    "    labs(title=\"Exponential Distribution for Data 2\", x=\"comment_length\") + theme_bw()\n",
    "\n",
    "ggplot(Data2, aes(x=Data2$V1)) +\n",
    "  stat_function(fun = pexp, n = 101, args = list(rate = 1/mean(x2)), geom=\"area\", fill=\"#B0E0E6\", alpha=.4) + ylab(\"\") +\n",
    "    labs(title=\"Cummulative Distribution for Data 2\", x=\"comment_length\") + theme_bw()"
   ]
  },
  {
   "cell_type": "markdown",
   "metadata": {},
   "source": [
    "4.\n",
    "Apabila hari ini IPI menerima 100 komentar dari mahasiswa, tentukan ekspektasi jumlah komentar yang panjangnya:\n",
    "\n",
    "a. dibawah 3 kata.\n",
    "\n",
    "b. diatas 50 kata."
   ]
  },
  {
   "cell_type": "code",
   "execution_count": 276,
   "metadata": {},
   "outputs": [
    {
     "data": {
      "text/html": [
       "'a. 22.958366 ~ 23 komentar'"
      ],
      "text/latex": [
       "'a. 22.958366 \\textasciitilde{} 23 komentar'"
      ],
      "text/markdown": [
       "'a. 22.958366 ~ 23 komentar'"
      ],
      "text/plain": [
       "[1] \"a. 22.958366 ~ 23 komentar\""
      ]
     },
     "metadata": {},
     "output_type": "display_data"
    },
    {
     "data": {
      "text/html": [
       "'b. 0.515056 ~ 1 komentar'"
      ],
      "text/latex": [
       "'b. 0.515056 \\textasciitilde{} 1 komentar'"
      ],
      "text/markdown": [
       "'b. 0.515056 ~ 1 komentar'"
      ],
      "text/plain": [
       "[1] \"b. 0.515056 ~ 1 komentar\""
      ]
     },
     "metadata": {},
     "output_type": "display_data"
    }
   ],
   "source": [
    "sprintf(\"a. %f ~ %i komentar\", pexp(2.5,rate=1/mean(x2))*100, round(pexp(2.5,rate=1/mean(x2))*100, digits = 0))\n",
    "sprintf(\"b. %f ~ %i komentar\", pexp(50.5,rate=1/mean(x2),lower.tail=FALSE)*100, round(pexp(50.5,rate=1/mean(x2),lower.tail=FALSE)*100, digits = 0))"
   ]
  },
  {
   "cell_type": "markdown",
   "metadata": {},
   "source": [
    "5.\n",
    "Apabila hari ini IPI menerima 200 komentar dari mahasiswa, tentukan ekspektasi jumlah komentar yang panjangnya:\n",
    "\n",
    "a. diantara 4 dan 6 kata (inklusif).\n",
    "\n",
    "b. hanya 1 kata."
   ]
  },
  {
   "cell_type": "code",
   "execution_count": 277,
   "metadata": {},
   "outputs": [
    {
     "data": {
      "text/html": [
       "'a. 37.306229 ~ 37 komentar'"
      ],
      "text/latex": [
       "'a. 37.306229 \\textasciitilde{} 37 komentar'"
      ],
      "text/markdown": [
       "'a. 37.306229 ~ 37 komentar'"
      ],
      "text/plain": [
       "[1] \"a. 37.306229 ~ 37 komentar\""
      ]
     },
     "metadata": {},
     "output_type": "display_data"
    },
    {
     "data": {
      "text/html": [
       "'b. 18.807238 ~ 19 komentar'"
      ],
      "text/latex": [
       "'b. 18.807238 \\textasciitilde{} 19 komentar'"
      ],
      "text/markdown": [
       "'b. 18.807238 ~ 19 komentar'"
      ],
      "text/plain": [
       "[1] \"b. 18.807238 ~ 19 komentar\""
      ]
     },
     "metadata": {},
     "output_type": "display_data"
    }
   ],
   "source": [
    "sprintf(\"a. %f ~ %i komentar\", (pexp(6.5,rate=1/mean(x2))-pexp(3.5,rate=1/mean(x2)))*200, round((pexp(6.5,rate=1/mean(x2))-pexp(3.5,rate=1/mean(x2)))*200, digits = 0))\n",
    "sprintf(\"b. %f ~ %i komentar\", (pexp(1.5,rate=1/mean(x2))-pexp(0.5,rate=1/mean(x2)))*200, round((pexp(1.5,rate=1/mean(x2))-pexp(0.5,rate=1/mean(x2)))*200, digits = 0))"
   ]
  },
  {
   "cell_type": "markdown",
   "metadata": {},
   "source": [
    "# SOAL 3"
   ]
  },
  {
   "cell_type": "markdown",
   "metadata": {},
   "source": [
    "Data: ujian.csv\n",
    "\n",
    "Kampus IPI sangat terkenal di Indonesia karena salah satu peraturannya, yaitu mahasiswa yang mendapat nilai ujian dibawah batas kelulusan boleh melakukan ujian ulang (dengan jumlah yang tak terbatas) sampai nilainya sama atau melebihi batas kelulusan (75). Apabila mahasiswa yang sudah lulus ujian merasa nilainya kurang memuaskan, ia boleh melakukan ujian ulang sampai ia merasa puas dengan nilainya. Tentunya dosen sudah menyediakan soal ujian yang berbeda untuk setiap ujian ulang sehingga mahasiswa tetap harus mempersiapkan diri. Suatu hari, seorang mahasiswa bernama X ditantang oleh temannya bernama Y untuk mengerjakan ujian matakuliah sastra teknik informatika sebanyak 1000 kali! Dengan merasa semangat, X pun menerima tantangan dari temannya untuk mengerjakan ujian sebanyak 1000 kali. Sebagai seorang (calon) ahli statistika, Anda penasaran tentang hasil ujian yang dilakukan X sehingga Anda melakukan analisis terhadap nilai ujian tersebut. Berikut adalah hal akan Anda lakukan:"
   ]
  },
  {
   "cell_type": "markdown",
   "metadata": {},
   "source": [
    "1.\n",
    "Menulis deskripsi statisktika dari data ujian, beserta peluang X lulus ujian dan peluang X tidak lulus ujian matakuliah sastra teknik informatika."
   ]
  },
  {
   "cell_type": "code",
   "execution_count": 278,
   "metadata": {},
   "outputs": [
    {
     "data": {
      "text/html": [
       "'Mean = 58.995000'"
      ],
      "text/latex": [
       "'Mean = 58.995000'"
      ],
      "text/markdown": [
       "'Mean = 58.995000'"
      ],
      "text/plain": [
       "[1] \"Mean = 58.995000\""
      ]
     },
     "metadata": {},
     "output_type": "display_data"
    },
    {
     "data": {
      "text/html": [
       "'Median = 65.000000'"
      ],
      "text/latex": [
       "'Median = 65.000000'"
      ],
      "text/markdown": [
       "'Median = 65.000000'"
      ],
      "text/plain": [
       "[1] \"Median = 65.000000\""
      ]
     },
     "metadata": {},
     "output_type": "display_data"
    },
    {
     "data": {
      "text/html": [
       "'Mode = 76.000000'"
      ],
      "text/latex": [
       "'Mode = 76.000000'"
      ],
      "text/markdown": [
       "'Mode = 76.000000'"
      ],
      "text/plain": [
       "[1] \"Mode = 76.000000\""
      ]
     },
     "metadata": {},
     "output_type": "display_data"
    },
    {
     "data": {
      "text/html": [
       "'Standard Deviation = 30.931080'"
      ],
      "text/latex": [
       "'Standard Deviation = 30.931080'"
      ],
      "text/markdown": [
       "'Standard Deviation = 30.931080'"
      ],
      "text/plain": [
       "[1] \"Standard Deviation = 30.931080\""
      ]
     },
     "metadata": {},
     "output_type": "display_data"
    },
    {
     "data": {
      "text/html": [
       "'Variance = 956.731707'"
      ],
      "text/latex": [
       "'Variance = 956.731707'"
      ],
      "text/markdown": [
       "'Variance = 956.731707'"
      ],
      "text/plain": [
       "[1] \"Variance = 956.731707\""
      ]
     },
     "metadata": {},
     "output_type": "display_data"
    },
    {
     "data": {
      "text/html": [
       "'Range = 100.000000'"
      ],
      "text/latex": [
       "'Range = 100.000000'"
      ],
      "text/markdown": [
       "'Range = 100.000000'"
      ],
      "text/plain": [
       "[1] \"Range = 100.000000\""
      ]
     },
     "metadata": {},
     "output_type": "display_data"
    },
    {
     "data": {
      "text/html": [
       "'Min = 0.000000'"
      ],
      "text/latex": [
       "'Min = 0.000000'"
      ],
      "text/markdown": [
       "'Min = 0.000000'"
      ],
      "text/plain": [
       "[1] \"Min = 0.000000\""
      ]
     },
     "metadata": {},
     "output_type": "display_data"
    },
    {
     "data": {
      "text/html": [
       "'Max = 100.000000'"
      ],
      "text/latex": [
       "'Max = 100.000000'"
      ],
      "text/markdown": [
       "'Max = 100.000000'"
      ],
      "text/plain": [
       "[1] \"Max = 100.000000\""
      ]
     },
     "metadata": {},
     "output_type": "display_data"
    },
    {
     "data": {
      "text/html": [
       "'P(Passed) = 0.450000'"
      ],
      "text/latex": [
       "'P(Passed) = 0.450000'"
      ],
      "text/markdown": [
       "'P(Passed) = 0.450000'"
      ],
      "text/plain": [
       "[1] \"P(Passed) = 0.450000\""
      ]
     },
     "metadata": {},
     "output_type": "display_data"
    },
    {
     "data": {
      "text/html": [
       "'P(Not Passed) = 0.550000'"
      ],
      "text/latex": [
       "'P(Not Passed) = 0.550000'"
      ],
      "text/markdown": [
       "'P(Not Passed) = 0.550000'"
      ],
      "text/plain": [
       "[1] \"P(Not Passed) = 0.550000\""
      ]
     },
     "metadata": {},
     "output_type": "display_data"
    },
    {
     "data": {},
     "metadata": {},
     "output_type": "display_data"
    },
    {
     "data": {
      "image/png": "[encoded data removed]",
      "text/plain": [
       "plot without title"
      ]
     },
     "metadata": {},
     "output_type": "display_data"
    }
   ],
   "source": [
    "Data3 <- read.csv(file=\"ujian.csv\", header=FALSE, sep=\",\")\n",
    "\n",
    "getmode <- function(v) {\n",
    "   uniqv <- unique(v)\n",
    "   uniqv[which.max(tabulate(match(v, uniqv)))]\n",
    "}\n",
    "\n",
    "#Deskripsi Statistika dan Peluang Lulus dan Tidak Lulus\n",
    "sprintf(\"Mean = %f\", mean(Data3$V1))\n",
    "sprintf(\"Median = %f\", median(Data3$V1))\n",
    "sprintf(\"Mode = %f\", getmode(Data3$V1))\n",
    "sprintf(\"Standard Deviation = %f\", sd(Data3$V1))\n",
    "sprintf(\"Variance = %f\", var(Data3$V1))\n",
    "sprintf(\"Range = %f\", max(Data3$V1)-min(Data3$V1))\n",
    "sprintf(\"Min = %f\", min(Data3$V1))\n",
    "sprintf(\"Max = %f\", max(Data3$V1))\n",
    "\n",
    "Pass=0\n",
    "notPass=0\n",
    "for ( i in Data3$V1) {\n",
    "   if (i>=75) {\n",
    "       Pass=Pass+1\n",
    "   }else {\n",
    "       notPass=notPass+1\n",
    "   }\n",
    "}\n",
    "\n",
    "p=Pass/nrow(Data3)\n",
    "q=notPass/nrow(Data3)\n",
    "\n",
    "sprintf(\"P(Passed) = %f\", p)\n",
    "sprintf(\"P(Not Passed) = %f\", q)\n",
    "\n",
    "ggplot(data=Data3, aes(Data3$V1)) +\n",
    "    geom_histogram(bins=30, fill=\"blue\", col=\"gray\", alpha=.6) + \n",
    "    labs(title=\"Histogram for Data 3\", x=\"score\", y=\"count\")"
   ]
  },
  {
   "cell_type": "markdown",
   "metadata": {},
   "source": [
    "2.\n",
    "Apabila Y menantang X lagi untuk melakukan ujian matakuliah sastra teknik informatika sebanyak 20 kali, tentukan:\n",
    "\n",
    "a. distribusi yang paling sesuai untuk persoalan ini beserta alasan mengapa distribusi tersebut dipilih.\n",
    "\n",
    "b. plot distribusi yang Anda pilih dan plot distribusi kumulatifnya.\n",
    "\n",
    "c. peluang untuk kasus minimal X lulus sebanyak 8 kali.\n",
    "\n",
    "d. peluang untuk kasus maksimal X tidak lulus sebanyak 10 kali."
   ]
  },
  {
   "cell_type": "markdown",
   "metadata": {},
   "source": [
    "a.\n",
    "Distribusi yang dipilih adalah Distribusi Binomial\n",
    "\n",
    "Alasan:\n",
    "    1. Peluang konstan"
   ]
  },
  {
   "cell_type": "code",
   "execution_count": 296,
   "metadata": {},
   "outputs": [
    {
     "data": {},
     "metadata": {},
     "output_type": "display_data"
    },
    {
     "data": {},
     "metadata": {},
     "output_type": "display_data"
    },
    {
     "data": {
      "image/png": "[encoded data removed]",
      "text/plain": [
       "plot without title"
      ]
     },
     "metadata": {},
     "output_type": "display_data"
    },
    {
     "data": {
      "image/png": "[encoded data removed]",
      "text/plain": [
       "plot without title"
      ]
     },
     "metadata": {},
     "output_type": "display_data"
    }
   ],
   "source": [
    "library(cowplot)\n",
    "\n",
    "ggplot(Data3, aes(x=Data3$V1)) +\n",
    "  stat_function(fun = dbinom, n = 101, args = list(20, p), geom=\"area\", fill=\"#B0E0E6\", alpha=.4) + ylab(\"\") +\n",
    "    labs(title=\"Binomial Distribution for Data 3 (n = 20)\", x=\"score\") + theme_bw()\n",
    "\n",
    "ggplot(Data3, aes(x=Data3$V1)) +\n",
    "  stat_function(fun = pbinom, n = 101, args = list(20, p), geom=\"area\", fill=\"#B0E0E6\", alpha=.4) + ylab(\"\") +\n",
    "    labs(title=\"Cummulative Distribution for Data 3 (n = 20)\", x=\"score\") + theme_bw()"
   ]
  },
  {
   "cell_type": "code",
   "execution_count": 280,
   "metadata": {},
   "outputs": [
    {
     "data": {
      "text/html": [
       "'c. 0.747994'"
      ],
      "text/latex": [
       "'c. 0.747994'"
      ],
      "text/markdown": [
       "'c. 0.747994'"
      ],
      "text/plain": [
       "[1] \"c. 0.747994\""
      ]
     },
     "metadata": {},
     "output_type": "display_data"
    }
   ],
   "source": [
    "#c. peluang untuk kasus minimal X lulus sebanyak 8 kali.\n",
    "\n",
    "sprintf(\"c. %f\",pbinom(7,20,p,lower.tail=FALSE))"
   ]
  },
  {
   "cell_type": "code",
   "execution_count": 281,
   "metadata": {},
   "outputs": [
    {
     "data": {
      "text/html": [
       "'d. 0.408639'"
      ],
      "text/latex": [
       "'d. 0.408639'"
      ],
      "text/markdown": [
       "'d. 0.408639'"
      ],
      "text/plain": [
       "[1] \"d. 0.408639\""
      ]
     },
     "metadata": {},
     "output_type": "display_data"
    }
   ],
   "source": [
    "#d. peluang untuk kasus maksimal X tidak lulus sebanyak 10 kali.\n",
    "\n",
    "sprintf(\"d. %f\", pbinom(10,20,q))"
   ]
  },
  {
   "cell_type": "markdown",
   "metadata": {},
   "source": [
    "3.\n",
    "Apabila Y menantang X untuk melakukan ujian matakuliah sastra teknik informatika berkali-kali sampai X lulus, tentukan:\n",
    "\n",
    "a. distribusi yang paling sesuai untuk persoalan ini beserta alasan mengapa distribusi tersebut dipilih.\n",
    "\n",
    "b. plot distribusi yang Anda pilih dan plot distribusi kumulatifnya.\n",
    "\n",
    "c. peluang X lulus setelah menyelesaikan ujian ke-10.\n",
    "\n",
    "d. peluang X lulus setelah menyelesaikan ujian ke-4 atau ke-6.\n",
    "\n",
    "e. peluang X lulus apabila Y hanya memberi 3 kesempatan bagi X untuk melakukan ujian.\n",
    "\n",
    "f. peluang X lulus setelah menyelesaikan ujian pertama."
   ]
  },
  {
   "cell_type": "markdown",
   "metadata": {},
   "source": [
    "a.\n",
    "Distribusi yang dipilih adalah Distribusi Geometri\n",
    "\n",
    "Alasan:\n",
    "    1. Peluang konstan\n",
    "    2. Memiliki nilai k=1, k adalah jumlah suatu kejadian sampai sukses (pada kasus ini berarti sampai X lulus satu kali)"
   ]
  },
  {
   "cell_type": "code",
   "execution_count": 295,
   "metadata": {},
   "outputs": [
    {
     "data": {},
     "metadata": {},
     "output_type": "display_data"
    },
    {
     "data": {},
     "metadata": {},
     "output_type": "display_data"
    },
    {
     "data": {
      "image/png": "[encoded data removed]",
      "text/plain": [
       "plot without title"
      ]
     },
     "metadata": {},
     "output_type": "display_data"
    },
    {
     "data": {
      "image/png": "[encoded data removed]",
      "text/plain": [
       "plot without title"
      ]
     },
     "metadata": {},
     "output_type": "display_data"
    }
   ],
   "source": [
    "library(cowplot)\n",
    "\n",
    "ggplot(Data3, aes(x=Data3$V1)) +\n",
    "  stat_function(fun = dgeom, n = 101, args = list(p), geom=\"area\", fill=\"#B0E0E6\", alpha=.4) + ylab(\"\") +\n",
    "    labs(title=\"Geometric Distribution for Data 3 (Until X Pass)\", x=\"score\") + theme_bw()\n",
    "\n",
    "ggplot(Data3, aes(x=Data3$V1)) +\n",
    "  stat_function(fun = pgeom, n = 101, args = list(p), geom=\"area\", fill=\"#B0E0E6\", alpha=.4) + ylab(\"\") +\n",
    "    labs(title=\"Cummulative Distribution for Data 3 (Until X Pass)\", x=\"score\") + theme_bw()"
   ]
  },
  {
   "cell_type": "code",
   "execution_count": 283,
   "metadata": {},
   "outputs": [
    {
     "data": {
      "text/html": [
       "'c. 0.002072'"
      ],
      "text/latex": [
       "'c. 0.002072'"
      ],
      "text/markdown": [
       "'c. 0.002072'"
      ],
      "text/plain": [
       "[1] \"c. 0.002072\""
      ]
     },
     "metadata": {},
     "output_type": "display_data"
    }
   ],
   "source": [
    "#c. peluang X lulus setelah menyelesaikan ujian ke-10.\n",
    "\n",
    "sprintf(\"c. %f\", dgeom(9,p))"
   ]
  },
  {
   "cell_type": "code",
   "execution_count": 284,
   "metadata": {},
   "outputs": [
    {
     "data": {
      "text/html": [
       "'d. 0.097517'"
      ],
      "text/latex": [
       "'d. 0.097517'"
      ],
      "text/markdown": [
       "'d. 0.097517'"
      ],
      "text/plain": [
       "[1] \"d. 0.097517\""
      ]
     },
     "metadata": {},
     "output_type": "display_data"
    }
   ],
   "source": [
    "#d. peluang X lulus setelah menyelesaikan ujian ke-4 atau ke-6.\n",
    "\n",
    "sprintf(\"d. %f\", dgeom(3,p)+dgeom(5,p))"
   ]
  },
  {
   "cell_type": "code",
   "execution_count": 285,
   "metadata": {},
   "outputs": [
    {
     "data": {
      "text/html": [
       "'e. 0.833625'"
      ],
      "text/latex": [
       "'e. 0.833625'"
      ],
      "text/markdown": [
       "'e. 0.833625'"
      ],
      "text/plain": [
       "[1] \"e. 0.833625\""
      ]
     },
     "metadata": {},
     "output_type": "display_data"
    }
   ],
   "source": [
    "#e. peluang X lulus apabila Y hanya memberi 3 kesempatan bagi X untuk melakukan ujian.\n",
    "\n",
    "sprintf(\"e. %f\", pgeom(2,p))"
   ]
  },
  {
   "cell_type": "code",
   "execution_count": 286,
   "metadata": {},
   "outputs": [
    {
     "data": {
      "text/html": [
       "'f. 0.450000'"
      ],
      "text/latex": [
       "'f. 0.450000'"
      ],
      "text/markdown": [
       "'f. 0.450000'"
      ],
      "text/plain": [
       "[1] \"f. 0.450000\""
      ]
     },
     "metadata": {},
     "output_type": "display_data"
    }
   ],
   "source": [
    "#f. peluang X lulus setelah menyelesaikan ujian pertama.\n",
    "\n",
    "sprintf(\"f. %f\", dgeom(0,p))"
   ]
  },
  {
   "cell_type": "markdown",
   "metadata": {},
   "source": [
    "# SOAL 4"
   ]
  },
  {
   "cell_type": "markdown",
   "metadata": {},
   "source": [
    "Data: kejahatan.csv\n",
    "\n",
    "Setelah rektor IPI mendapatkan kritik yang negatif mengenai peraturan jam malam sebelumnya, ia memutuskan untuk menarik peraturan tersebut. Akan tetapi, sebenarnya tujuan awal ia menetapkan peraturan tersebut adalah untuk mengurangi kejahatan yang terjadi pada malam hari. Untuk tetap bisa mencapai tujuan awalnya, ia mencoba berbagai cara lain seperti memasang banyak CCTV dan mempekerjakan lebih banyak satpam keamanan. Setelah tiga tahun berlalu, ia ingin tahu apakah usaha yang ia sudah lakukan sudah cukup baik. Oleh karena itu, ia menghubungi Anda, seorang ahli statistika, untuk datang dan membantu menganalisis data kejahatan 3 tahun. Anda diminta untuk:"
   ]
  },
  {
   "cell_type": "markdown",
   "metadata": {},
   "source": [
    "1.\n",
    "Menulis deskripsi statisktika dari data kejahatan."
   ]
  },
  {
   "cell_type": "code",
   "execution_count": 287,
   "metadata": {},
   "outputs": [
    {
     "data": {
      "text/html": [
       "'Mean = 0.045662'"
      ],
      "text/latex": [
       "'Mean = 0.045662'"
      ],
      "text/markdown": [
       "'Mean = 0.045662'"
      ],
      "text/plain": [
       "[1] \"Mean = 0.045662\""
      ]
     },
     "metadata": {},
     "output_type": "display_data"
    },
    {
     "data": {
      "text/html": [
       "'Median = 0.000000'"
      ],
      "text/latex": [
       "'Median = 0.000000'"
      ],
      "text/markdown": [
       "'Median = 0.000000'"
      ],
      "text/plain": [
       "[1] \"Median = 0.000000\""
      ]
     },
     "metadata": {},
     "output_type": "display_data"
    },
    {
     "data": {
      "text/html": [
       "'Mode = 0.000000'"
      ],
      "text/latex": [
       "'Mode = 0.000000'"
      ],
      "text/markdown": [
       "'Mode = 0.000000'"
      ],
      "text/plain": [
       "[1] \"Mode = 0.000000\""
      ]
     },
     "metadata": {},
     "output_type": "display_data"
    },
    {
     "data": {
      "text/html": [
       "'Standard Deviation = 0.276629'"
      ],
      "text/latex": [
       "'Standard Deviation = 0.276629'"
      ],
      "text/markdown": [
       "'Standard Deviation = 0.276629'"
      ],
      "text/plain": [
       "[1] \"Standard Deviation = 0.276629\""
      ]
     },
     "metadata": {},
     "output_type": "display_data"
    },
    {
     "data": {
      "text/html": [
       "'Variance = 0.076524'"
      ],
      "text/latex": [
       "'Variance = 0.076524'"
      ],
      "text/markdown": [
       "'Variance = 0.076524'"
      ],
      "text/plain": [
       "[1] \"Variance = 0.076524\""
      ]
     },
     "metadata": {},
     "output_type": "display_data"
    },
    {
     "data": {
      "text/html": [
       "'Range = 4.000000'"
      ],
      "text/latex": [
       "'Range = 4.000000'"
      ],
      "text/markdown": [
       "'Range = 4.000000'"
      ],
      "text/plain": [
       "[1] \"Range = 4.000000\""
      ]
     },
     "metadata": {},
     "output_type": "display_data"
    },
    {
     "data": {
      "text/html": [
       "'Min = 0.000000'"
      ],
      "text/latex": [
       "'Min = 0.000000'"
      ],
      "text/markdown": [
       "'Min = 0.000000'"
      ],
      "text/plain": [
       "[1] \"Min = 0.000000\""
      ]
     },
     "metadata": {},
     "output_type": "display_data"
    },
    {
     "data": {
      "text/html": [
       "'Max = 4.000000'"
      ],
      "text/latex": [
       "'Max = 4.000000'"
      ],
      "text/markdown": [
       "'Max = 4.000000'"
      ],
      "text/plain": [
       "[1] \"Max = 4.000000\""
      ]
     },
     "metadata": {},
     "output_type": "display_data"
    },
    {
     "data": {},
     "metadata": {},
     "output_type": "display_data"
    },
    {
     "data": {
      "image/png": "[encoded data removed]",
      "text/plain": [
       "plot without title"
      ]
     },
     "metadata": {},
     "output_type": "display_data"
    }
   ],
   "source": [
    "Data4 <- read.csv(file=\"kejahatan.csv\", header=TRUE, sep=\",\")\n",
    "#print(Data)\n",
    "getmode <- function(v) {\n",
    "   uniqv <- unique(v)\n",
    "   uniqv[which.max(tabulate(match(v, uniqv)))]\n",
    "}\n",
    "\n",
    "#Deskripsi Statistika\n",
    "sprintf(\"Mean = %f\", mean(Data4$jumlah_kejahatan))\n",
    "sprintf(\"Median = %f\", median(Data4$jumlah_kejahatan))\n",
    "sprintf(\"Mode = %f\", getmode(Data4$jumlah_kejahatan))\n",
    "sprintf(\"Standard Deviation = %f\", sd(Data4$jumlah_kejahatan))\n",
    "sprintf(\"Variance = %f\", var(Data4$jumlah_kejahatan))\n",
    "sprintf(\"Range = %f\", max(Data4$jumlah_kejahatan)-min(Data4$jumlah_kejahatan))\n",
    "sprintf(\"Min = %f\", min(Data4$jumlah_kejahatan))\n",
    "sprintf(\"Max = %f\", max(Data4$jumlah_kejahatan))\n",
    "\n",
    "ggplot(data=Data4, aes(Data4$jumlah_kejahatan)) +\n",
    "    geom_histogram(bins=30, fill=\"blue\", col=\"gray\", alpha=.6) + \n",
    "    labs(title=\"Histogram for Data 4\", x=\"crime(s)/day\", y=\"count\")"
   ]
  },
  {
   "cell_type": "markdown",
   "metadata": {},
   "source": [
    "2.\n",
    "Menentukan distribusi yang paling sesuai untuk persoalan tersebut. Jelaskan alasan mengapa distribusi tersebut dipilih."
   ]
  },
  {
   "cell_type": "markdown",
   "metadata": {},
   "source": [
    "Distribusi yang dipilih adalah Distribusi Poisson\n",
    "\n",
    "Alasan:\n",
    "    1. Merupakan kejadian dengan interval waktu\n",
    "    2. Bentuk histogram menunjukkan nature of poisson"
   ]
  },
  {
   "cell_type": "markdown",
   "metadata": {},
   "source": [
    "3.\n",
    "Membuat plot distribusi yang Anda pilih beserta plot distribusi kumulatifnya."
   ]
  },
  {
   "cell_type": "code",
   "execution_count": 288,
   "metadata": {},
   "outputs": [
    {
     "data": {},
     "metadata": {},
     "output_type": "display_data"
    },
    {
     "data": {},
     "metadata": {},
     "output_type": "display_data"
    },
    {
     "data": {
      "image/png": "[encoded data removed]",
      "text/plain": [
       "plot without title"
      ]
     },
     "metadata": {},
     "output_type": "display_data"
    },
    {
     "data": {
      "image/png": "[encoded data removed]",
      "text/plain": [
       "plot without title"
      ]
     },
     "metadata": {},
     "output_type": "display_data"
    }
   ],
   "source": [
    "library(cowplot)\n",
    "\n",
    "ggplot(Data4, aes(x=Data4$jumlah_kejahatan)) +\n",
    "  stat_function(fun = dpois, n = 5, args = list(mean(x4)), geom=\"area\", fill=\"#B0E0E6\", alpha=.4) + ylab(\"\") +\n",
    "    labs(title=\"Poisson Distribution for Data 4\", x=\"crime(s)/day\") + theme_bw()\n",
    "\n",
    "ggplot(Data4, aes(x=Data4$jumlah_kejahatan)) +\n",
    "  stat_function(fun = ppois, n = 5, args = list(mean(x4)), geom=\"area\", fill=\"#B0E0E6\", alpha=.4) + ylab(\"\") +\n",
    "    labs(title=\"Cummulative Distribution for Data 4\", x=\"crime(s)/day\") + theme_bw()"
   ]
  },
  {
   "cell_type": "markdown",
   "metadata": {},
   "source": [
    "4.\n",
    "Tentukan peluang:\n",
    "\n",
    "a. tidak ada kejahatan yang terjadi selama 1 bulan (30 hari).\n",
    "\n",
    "b. maksimal terjadi 20 kejahatan selama 1 tahun."
   ]
  },
  {
   "cell_type": "code",
   "execution_count": 289,
   "metadata": {},
   "outputs": [
    {
     "data": {
      "text/html": [
       "'a. 0.998750'"
      ],
      "text/latex": [
       "'a. 0.998750'"
      ],
      "text/markdown": [
       "'a. 0.998750'"
      ],
      "text/plain": [
       "[1] \"a. 0.998750\""
      ]
     },
     "metadata": {},
     "output_type": "display_data"
    },
    {
     "data": {
      "text/html": [
       "'b. 1.000000'"
      ],
      "text/latex": [
       "'b. 1.000000'"
      ],
      "text/markdown": [
       "'b. 1.000000'"
      ],
      "text/plain": [
       "[1] \"b. 1.000000\""
      ]
     },
     "metadata": {},
     "output_type": "display_data"
    }
   ],
   "source": [
    "sprintf(\"a. %f\", dpois(0, ((mean(x4)/nrow(Data4))*30)))\n",
    "sprintf(\"b. %f\", ppois(20, ((mean(x4)/nrow(Data4))*365)))"
   ]
  },
  {
   "cell_type": "markdown",
   "metadata": {},
   "source": [
    "5.\n",
    "Selama 1 tahun, tentukan berapa kali terjadinya kejahatan apabila diketahui peluang kasus yang ditanya sebesar 0.02634."
   ]
  },
  {
   "cell_type": "code",
   "execution_count": 290,
   "metadata": {},
   "outputs": [
    {
     "data": {
      "text/html": [
       "0"
      ],
      "text/latex": [
       "0"
      ],
      "text/markdown": [
       "0"
      ],
      "text/plain": [
       "[1] 0"
      ]
     },
     "metadata": {},
     "output_type": "display_data"
    }
   ],
   "source": [
    "lambda<-mean(x4)/3\n",
    "\n",
    "qpois(0.02634, lambda)"
   ]
  },
  {
   "cell_type": "markdown",
   "metadata": {},
   "source": [
    "# SOAL 5"
   ]
  },
  {
   "cell_type": "markdown",
   "metadata": {},
   "source": [
    "Periksa apakah data pada soal 1, 2, 3, dan 4 saling berkorelasi. Beri penjelasan secara rinci beserta perhitungannya."
   ]
  },
  {
   "cell_type": "code",
   "execution_count": 291,
   "metadata": {},
   "outputs": [
    {
     "data": {
      "text/html": [
       "'1. Correlation Coefficient Data 1 and Data 2'"
      ],
      "text/latex": [
       "'1. Correlation Coefficient Data 1 and Data 2'"
      ],
      "text/markdown": [
       "'1. Correlation Coefficient Data 1 and Data 2'"
      ],
      "text/plain": [
       "[1] \"1. Correlation Coefficient Data 1 and Data 2\""
      ]
     },
     "metadata": {},
     "output_type": "display_data"
    },
    {
     "data": {
      "text/html": [
       "-0.0226988205806564"
      ],
      "text/latex": [
       "-0.0226988205806564"
      ],
      "text/markdown": [
       "-0.0226988205806564"
      ],
      "text/plain": [
       "[1] -0.02269882"
      ]
     },
     "metadata": {},
     "output_type": "display_data"
    },
    {
     "data": {
      "text/html": [
       "'2. Correlation Coefficient Data 1 and Data 3'"
      ],
      "text/latex": [
       "'2. Correlation Coefficient Data 1 and Data 3'"
      ],
      "text/markdown": [
       "'2. Correlation Coefficient Data 1 and Data 3'"
      ],
      "text/plain": [
       "[1] \"2. Correlation Coefficient Data 1 and Data 3\""
      ]
     },
     "metadata": {},
     "output_type": "display_data"
    },
    {
     "data": {
      "text/html": [
       "0.0384766113967001"
      ],
      "text/latex": [
       "0.0384766113967001"
      ],
      "text/markdown": [
       "0.0384766113967001"
      ],
      "text/plain": [
       "[1] 0.03847661"
      ]
     },
     "metadata": {},
     "output_type": "display_data"
    },
    {
     "data": {
      "text/html": [
       "'3. Correlation Coefficient Data 1 and Data 4'"
      ],
      "text/latex": [
       "'3. Correlation Coefficient Data 1 and Data 4'"
      ],
      "text/markdown": [
       "'3. Correlation Coefficient Data 1 and Data 4'"
      ],
      "text/plain": [
       "[1] \"3. Correlation Coefficient Data 1 and Data 4\""
      ]
     },
     "metadata": {},
     "output_type": "display_data"
    },
    {
     "data": {
      "text/html": [
       "-0.0388989958209494"
      ],
      "text/latex": [
       "-0.0388989958209494"
      ],
      "text/markdown": [
       "-0.0388989958209494"
      ],
      "text/plain": [
       "[1] -0.038899"
      ]
     },
     "metadata": {},
     "output_type": "display_data"
    },
    {
     "data": {
      "text/html": [
       "'4. Correlation Coefficient Data 2 and Data 3'"
      ],
      "text/latex": [
       "'4. Correlation Coefficient Data 2 and Data 3'"
      ],
      "text/markdown": [
       "'4. Correlation Coefficient Data 2 and Data 3'"
      ],
      "text/plain": [
       "[1] \"4. Correlation Coefficient Data 2 and Data 3\""
      ]
     },
     "metadata": {},
     "output_type": "display_data"
    },
    {
     "data": {
      "text/html": [
       "-0.0135811301429178"
      ],
      "text/latex": [
       "-0.0135811301429178"
      ],
      "text/markdown": [
       "-0.0135811301429178"
      ],
      "text/plain": [
       "[1] -0.01358113"
      ]
     },
     "metadata": {},
     "output_type": "display_data"
    },
    {
     "data": {
      "text/html": [
       "'5. Correlation Coefficient Data 2 and Data 4'"
      ],
      "text/latex": [
       "'5. Correlation Coefficient Data 2 and Data 4'"
      ],
      "text/markdown": [
       "'5. Correlation Coefficient Data 2 and Data 4'"
      ],
      "text/plain": [
       "[1] \"5. Correlation Coefficient Data 2 and Data 4\""
      ]
     },
     "metadata": {},
     "output_type": "display_data"
    },
    {
     "data": {
      "text/html": [
       "0.00651749878598284"
      ],
      "text/latex": [
       "0.00651749878598284"
      ],
      "text/markdown": [
       "0.00651749878598284"
      ],
      "text/plain": [
       "[1] 0.006517499"
      ]
     },
     "metadata": {},
     "output_type": "display_data"
    },
    {
     "data": {
      "text/html": [
       "'6. Correlation Coefficient Data 3 and Data 4'"
      ],
      "text/latex": [
       "'6. Correlation Coefficient Data 3 and Data 4'"
      ],
      "text/markdown": [
       "'6. Correlation Coefficient Data 3 and Data 4'"
      ],
      "text/plain": [
       "[1] \"6. Correlation Coefficient Data 3 and Data 4\""
      ]
     },
     "metadata": {},
     "output_type": "display_data"
    },
    {
     "data": {
      "text/html": [
       "0.0395526360438942"
      ],
      "text/latex": [
       "0.0395526360438942"
      ],
      "text/markdown": [
       "0.0395526360438942"
      ],
      "text/plain": [
       "[1] 0.03955264"
      ]
     },
     "metadata": {},
     "output_type": "display_data"
    }
   ],
   "source": [
    "\"1. Correlation Coefficient Data 1 and Data 2\"\n",
    "cor(Data1$V1, Data2$V1, method=\"pearson\")\n",
    "\n",
    "\"2. Correlation Coefficient Data 1 and Data 3\"\n",
    "cor(Data1$V1, Data3$V1, method=\"pearson\")\n",
    "\n",
    "\"3. Correlation Coefficient Data 1 and Data 4\"\n",
    "#Handling Different Matrices Dimension\n",
    "cor(c(Data1$V1, NA, NA, NA, NA, NA, NA, NA, NA, NA, NA, NA, NA,\n",
    "      NA, NA, NA, NA, NA, NA, NA, NA, NA, NA, NA, NA, NA, NA, NA,\n",
    "      NA, NA, NA, NA, NA, NA, NA, NA, NA, NA, NA, NA, NA, NA, NA,\n",
    "      NA, NA, NA, NA, NA, NA, NA, NA, NA, NA, NA, NA, NA, NA, NA,\n",
    "      NA, NA, NA, NA, NA, NA, NA, NA, NA, NA, NA, NA, NA, NA, NA,\n",
    "      NA, NA, NA, NA, NA, NA, NA, NA, NA, NA, NA, NA, NA, NA, NA,\n",
    "      NA, NA, NA, NA, NA, NA, NA, NA), Data4$jumlah_kejahatan, use='complete.obs', method=\"pearson\")\n",
    "\n",
    "\"4. Correlation Coefficient Data 2 and Data 3\"\n",
    "cor(Data2$V1, Data3$V1, method=\"pearson\")\n",
    "\n",
    "\"5. Correlation Coefficient Data 2 and Data 4\"\n",
    "#Handling Different Matrices Dimension\n",
    "cor(c(Data2$V1, NA, NA, NA, NA, NA, NA, NA, NA, NA, NA, NA, NA,\n",
    "      NA, NA, NA, NA, NA, NA, NA, NA, NA, NA, NA, NA, NA, NA, NA,\n",
    "      NA, NA, NA, NA, NA, NA, NA, NA, NA, NA, NA, NA, NA, NA, NA,\n",
    "      NA, NA, NA, NA, NA, NA, NA, NA, NA, NA, NA, NA, NA, NA, NA,\n",
    "      NA, NA, NA, NA, NA, NA, NA, NA, NA, NA, NA, NA, NA, NA, NA,\n",
    "      NA, NA, NA, NA, NA, NA, NA, NA, NA, NA, NA, NA, NA, NA, NA,\n",
    "      NA, NA, NA, NA, NA, NA, NA, NA), Data4$jumlah_kejahatan, use='complete.obs', method=\"pearson\")\n",
    "\n",
    "\"6. Correlation Coefficient Data 3 and Data 4\"\n",
    "#Handling Different Matrices Dimension\n",
    "cor(c(Data3$V1, NA, NA, NA, NA, NA, NA, NA, NA, NA, NA, NA, NA,\n",
    "      NA, NA, NA, NA, NA, NA, NA, NA, NA, NA, NA, NA, NA, NA, NA,\n",
    "      NA, NA, NA, NA, NA, NA, NA, NA, NA, NA, NA, NA, NA, NA, NA,\n",
    "      NA, NA, NA, NA, NA, NA, NA, NA, NA, NA, NA, NA, NA, NA, NA,\n",
    "      NA, NA, NA, NA, NA, NA, NA, NA, NA, NA, NA, NA, NA, NA, NA,\n",
    "      NA, NA, NA, NA, NA, NA, NA, NA, NA, NA, NA, NA, NA, NA, NA,\n",
    "      NA, NA, NA, NA, NA, NA, NA, NA), Data4$jumlah_kejahatan, use='complete.obs', method=\"pearson\")\n"
   ]
  },
  {
   "cell_type": "markdown",
   "metadata": {},
   "source": [
    "Interpretation (source: http://www.dummies.com/education/math/statistics/how-to-interpret-a-correlation-coefficient-r/):\n",
    "1. A weak downhill (negative) linear relationship\n",
    "2. A weak uphill (positive) linear relationship\n",
    "3. A weak downhill (negative) linear relationship\n",
    "4. A weak downhill (negative) linear relationship\n",
    "5. A weak uphill (positive) linear relationship\n",
    "6. A weak uphill (positive) linear relationship"
   ]
  },
  {
   "cell_type": "code",
   "execution_count": 292,
   "metadata": {},
   "outputs": [
    {
     "data": {
      "image/png": "[encoded data removed]",
      "text/plain": [
       "plot without title"
      ]
     },
     "metadata": {},
     "output_type": "display_data"
    }
   ],
   "source": [
    "#Making Correlation Matrices Using Corrgram\n",
    "#Handling Different Matrices Dimension\n",
    "Data1_new<-matrix(c(Data1$V1, NA, NA, NA, NA, NA, NA, NA, NA, NA, NA, NA, NA,\n",
    "      NA, NA, NA, NA, NA, NA, NA, NA, NA, NA, NA, NA, NA, NA, NA,\n",
    "      NA, NA, NA, NA, NA, NA, NA, NA, NA, NA, NA, NA, NA, NA, NA,\n",
    "      NA, NA, NA, NA, NA, NA, NA, NA, NA, NA, NA, NA, NA, NA, NA,\n",
    "      NA, NA, NA, NA, NA, NA, NA, NA, NA, NA, NA, NA, NA, NA, NA,\n",
    "      NA, NA, NA, NA, NA, NA, NA, NA, NA, NA, NA, NA, NA, NA, NA,\n",
    "      NA, NA, NA, NA, NA, NA, NA, NA), ncol=1, nrow=1095)\n",
    "Data2_new<-matrix(c(Data2$V1, NA, NA, NA, NA, NA, NA, NA, NA, NA, NA, NA, NA,\n",
    "      NA, NA, NA, NA, NA, NA, NA, NA, NA, NA, NA, NA, NA, NA, NA,\n",
    "      NA, NA, NA, NA, NA, NA, NA, NA, NA, NA, NA, NA, NA, NA, NA,\n",
    "      NA, NA, NA, NA, NA, NA, NA, NA, NA, NA, NA, NA, NA, NA, NA,\n",
    "      NA, NA, NA, NA, NA, NA, NA, NA, NA, NA, NA, NA, NA, NA, NA,\n",
    "      NA, NA, NA, NA, NA, NA, NA, NA, NA, NA, NA, NA, NA, NA, NA,\n",
    "      NA, NA, NA, NA, NA, NA, NA, NA), ncol=1, nrow=1095)\n",
    "Data3_new<-matrix(c(Data3$V1, NA, NA, NA, NA, NA, NA, NA, NA, NA, NA, NA, NA,\n",
    "      NA, NA, NA, NA, NA, NA, NA, NA, NA, NA, NA, NA, NA, NA, NA,\n",
    "      NA, NA, NA, NA, NA, NA, NA, NA, NA, NA, NA, NA, NA, NA, NA,\n",
    "      NA, NA, NA, NA, NA, NA, NA, NA, NA, NA, NA, NA, NA, NA, NA,\n",
    "      NA, NA, NA, NA, NA, NA, NA, NA, NA, NA, NA, NA, NA, NA, NA,\n",
    "      NA, NA, NA, NA, NA, NA, NA, NA, NA, NA, NA, NA, NA, NA, NA,\n",
    "      NA, NA, NA, NA, NA, NA, NA, NA), ncol=1, nrow=1095)\n",
    "\n",
    "library(corrgram)\n",
    "corrgram(data.frame(Data1=Data1_new[,1], Data2=Data2_new[,1], Data3=Data3_new[,1], Data4=Data4$jumlah_kejahatan), order=FALSE, lower.panel=panel.shade,\n",
    "  upper.panel=panel.pie, text.panel=panel.txt,\n",
    "  main=\"Correlation Matrices\")"
   ]
  }
 ],
 "metadata": {
  "kernelspec": {
   "display_name": "R",
   "language": "R",
   "name": "ir"
  },
  "language_info": {
   "codemirror_mode": "r",
   "file_extension": ".r",
   "mimetype": "text/x-r-source",
   "name": "R",
   "pygments_lexer": "r",
   "version": "3.4.4"
  }
 },
 "nbformat": 4,
 "nbformat_minor": 2
}
